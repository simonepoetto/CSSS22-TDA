{
 "cells": [
  {
   "cell_type": "code",
   "execution_count": 1,
   "metadata": {},
   "outputs": [],
   "source": [
    "from pathlib import Path\n",
    "from scipy.io import loadmat\n",
    "\n",
    "import pandas as pd\n",
    "\n",
    "\n",
    "from reciprocal_isomap import ReciprocalIsomap\n",
    "\n",
    "import numpy as np \n",
    "from kmapper import KeplerMapper\n",
    "from landmark_cover import LandmarkCover\n",
    "from sklearn.cluster import AgglomerativeClustering\n",
    "\n",
    "import matplotlib.pyplot as plt\n",
    "\n",
    "from nilearn.connectome import ConnectivityMeasure"
   ]
  },
  {
   "cell_type": "code",
   "execution_count": 3,
   "metadata": {},
   "outputs": [
    {
     "name": "stdout",
     "output_type": "stream",
     "text": [
      "(4340, 100)\n"
     ]
    }
   ],
   "source": [
    "#Load one patient data as X = time x ROI\n",
    "\n",
    "\n",
    "base_dir = Path(os.getcwd()).parent \n",
    "data_dir = base_dir / 'data'\n",
    "data = loadmat(data_dir / 'timeseries_allsubs.mat')\n",
    "# subs, timepoints, regions\n",
    "data['timeseries'].shape\n",
    "\n",
    "X = data['timeseries'][7]\n",
    "\n",
    "print(X.shape)\n",
    "\n",
    "#Generate encoding matrix of timing labels\n",
    "\n",
    "labels = loadmat(data_dir / 'labels.mat')\n",
    "labels = [e[0] for e in labels['labels'].squeeze()]\n",
    "\n",
    "df = pd.DataFrame(labels, columns=['labels'])\n",
    "target, labels = pd.factorize(df.labels.values)\n",
    "y = pd.DataFrame({l:(target==i).astype(int) for i,l in enumerate(labels)})"
   ]
  },
  {
   "cell_type": "code",
   "execution_count": 4,
   "metadata": {},
   "outputs": [
    {
     "name": "stderr",
     "output_type": "stream",
     "text": [
      "/home/poetz/anaconda3/envs/tda/lib/python3.9/site-packages/sklearn/utils/deprecation.py:87: FutureWarning: Function graph_shortest_path is deprecated; `graph_shortest_path` is deprecated in 1.0 (renaming of 0.25) and will be removed in 1.2. Use `scipy.sparse.csgraph.shortest_path` instead.\n",
      "  warnings.warn(msg, category=FutureWarning)\n"
     ]
    }
   ],
   "source": [
    "# compute distances with reciprocal isomap\n",
    "\n",
    "\n",
    "# compute geodesic distances on a reciprocal neighbor graph\n",
    "r_isomap = ReciprocalIsomap(n_neighbors=30,neighbors_mode=\"distance\", n_jobs=-2)\n",
    "geodesic_distances = r_isomap._reciprocal_distances(X).toarray()\n"
   ]
  },
  {
   "cell_type": "code",
   "execution_count": 6,
   "metadata": {},
   "outputs": [
    {
     "data": {
      "text/plain": [
       "1085.0"
      ]
     },
     "execution_count": 6,
     "metadata": {},
     "output_type": "execute_result"
    }
   ],
   "source": [
    "4340/4"
   ]
  },
  {
   "cell_type": "code",
   "execution_count": 13,
   "metadata": {},
   "outputs": [
    {
     "name": "stdout",
     "output_type": "stream",
     "text": [
      "KeplerMapper()\n",
      "Mapping on data shaped (4340, 100) using lens shaped (4340, 4340)\n",
      "\n",
      "Creating 500 hypercubes.\n",
      "Merged 2168 duplicate nodes.\n",
      "\n",
      "Number of nodes before merger: 4860; after merger: 2692\n",
      "\n",
      "\n",
      "Created 11857 edges and 2692 nodes in 0:01:00.463291.\n",
      "Wrote visualization to: last_patient_7_500land.html\n"
     ]
    }
   ],
   "source": [
    "#feed distances to KeplerMapper using Landmark Cover\n",
    "\n",
    "\n",
    "\n",
    "# setup KeplerMapper object\n",
    "mapper = KeplerMapper(verbose=1)\n",
    "\n",
    "# run KeplerMapper using the LandmarkCover\n",
    "graph = mapper.map(\n",
    "    lens=geodesic_distances, X=X,\n",
    "    cover=LandmarkCover(n_landmarks=500, perc_overlap=0.15, metric='precomputed'),\n",
    "    clusterer=AgglomerativeClustering(n_clusters=10, linkage='single'),\n",
    "    remove_duplicate_nodes=True,\n",
    ")\n",
    "\n",
    "# visualize the graph\n",
    "html = mapper.visualize(graph, path_html=f'last_patient_7_500land.html')"
   ]
  },
  {
   "cell_type": "code",
   "execution_count": 12,
   "metadata": {},
   "outputs": [
    {
     "data": {
      "text/html": [
       "<table border=\"1\" class=\"dataframe\">\n",
       "  <thead>\n",
       "    <tr style=\"text-align: right;\">\n",
       "      <th>label</th>\n",
       "      <th>group</th>\n",
       "      <th>value</th>\n",
       "      <th>row_count</th>\n",
       "    </tr>\n",
       "  </thead>\n",
       "  <tbody>\n",
       "    <tr>\n",
       "      <td>REST</td>\n",
       "      <td>0</td>\n",
       "      <td>2400</td>\n",
       "      <td>4340</td>\n",
       "    </tr>\n",
       "    <tr>\n",
       "      <td>EMOTION</td>\n",
       "      <td>1</td>\n",
       "      <td>176</td>\n",
       "      <td>4340</td>\n",
       "    </tr>\n",
       "    <tr>\n",
       "      <td>GAMBLING</td>\n",
       "      <td>2</td>\n",
       "      <td>253</td>\n",
       "      <td>4340</td>\n",
       "    </tr>\n",
       "    <tr>\n",
       "      <td>LANGUAGE</td>\n",
       "      <td>3</td>\n",
       "      <td>316</td>\n",
       "      <td>4340</td>\n",
       "    </tr>\n",
       "    <tr>\n",
       "      <td>MOTOR</td>\n",
       "      <td>4</td>\n",
       "      <td>284</td>\n",
       "      <td>4340</td>\n",
       "    </tr>\n",
       "    <tr>\n",
       "      <td>RELATIONAL</td>\n",
       "      <td>5</td>\n",
       "      <td>232</td>\n",
       "      <td>4340</td>\n",
       "    </tr>\n",
       "    <tr>\n",
       "      <td>SOCIAL</td>\n",
       "      <td>6</td>\n",
       "      <td>274</td>\n",
       "      <td>4340</td>\n",
       "    </tr>\n",
       "    <tr>\n",
       "      <td>MEMORY</td>\n",
       "      <td>7</td>\n",
       "      <td>405</td>\n",
       "      <td>4340</td>\n",
       "    </tr>\n",
       "  </tbody>\n",
       "</table>"
      ],
      "text/plain": [
       "<IPython.core.display.HTML object>"
      ]
     },
     "metadata": {},
     "output_type": "display_data"
    },
    {
     "name": "stdout",
     "output_type": "stream",
     "text": [
      "Already serving localhost:None \n",
      "[Force Graph] file:///home/poetz/Desktop/PhD/Projects/Projects%20CSSS/TDA/CSSS22-TDA/code/patient7_dyneusr_02.html\n"
     ]
    },
    {
     "data": {
      "text/html": [
       "<style>#sk-container-id-3 {color: black;background-color: white;}#sk-container-id-3 pre{padding: 0;}#sk-container-id-3 div.sk-toggleable {background-color: white;}#sk-container-id-3 label.sk-toggleable__label {cursor: pointer;display: block;width: 100%;margin-bottom: 0;padding: 0.3em;box-sizing: border-box;text-align: center;}#sk-container-id-3 label.sk-toggleable__label-arrow:before {content: \"▸\";float: left;margin-right: 0.25em;color: #696969;}#sk-container-id-3 label.sk-toggleable__label-arrow:hover:before {color: black;}#sk-container-id-3 div.sk-estimator:hover label.sk-toggleable__label-arrow:before {color: black;}#sk-container-id-3 div.sk-toggleable__content {max-height: 0;max-width: 0;overflow: hidden;text-align: left;background-color: #f0f8ff;}#sk-container-id-3 div.sk-toggleable__content pre {margin: 0.2em;color: black;border-radius: 0.25em;background-color: #f0f8ff;}#sk-container-id-3 input.sk-toggleable__control:checked~div.sk-toggleable__content {max-height: 200px;max-width: 100%;overflow: auto;}#sk-container-id-3 input.sk-toggleable__control:checked~label.sk-toggleable__label-arrow:before {content: \"▾\";}#sk-container-id-3 div.sk-estimator input.sk-toggleable__control:checked~label.sk-toggleable__label {background-color: #d4ebff;}#sk-container-id-3 div.sk-label input.sk-toggleable__control:checked~label.sk-toggleable__label {background-color: #d4ebff;}#sk-container-id-3 input.sk-hidden--visually {border: 0;clip: rect(1px 1px 1px 1px);clip: rect(1px, 1px, 1px, 1px);height: 1px;margin: -1px;overflow: hidden;padding: 0;position: absolute;width: 1px;}#sk-container-id-3 div.sk-estimator {font-family: monospace;background-color: #f0f8ff;border: 1px dotted black;border-radius: 0.25em;box-sizing: border-box;margin-bottom: 0.5em;}#sk-container-id-3 div.sk-estimator:hover {background-color: #d4ebff;}#sk-container-id-3 div.sk-parallel-item::after {content: \"\";width: 100%;border-bottom: 1px solid gray;flex-grow: 1;}#sk-container-id-3 div.sk-label:hover label.sk-toggleable__label {background-color: #d4ebff;}#sk-container-id-3 div.sk-serial::before {content: \"\";position: absolute;border-left: 1px solid gray;box-sizing: border-box;top: 0;bottom: 0;left: 50%;z-index: 0;}#sk-container-id-3 div.sk-serial {display: flex;flex-direction: column;align-items: center;background-color: white;padding-right: 0.2em;padding-left: 0.2em;position: relative;}#sk-container-id-3 div.sk-item {position: relative;z-index: 1;}#sk-container-id-3 div.sk-parallel {display: flex;align-items: stretch;justify-content: center;background-color: white;position: relative;}#sk-container-id-3 div.sk-item::before, #sk-container-id-3 div.sk-parallel-item::before {content: \"\";position: absolute;border-left: 1px solid gray;box-sizing: border-box;top: 0;bottom: 0;left: 50%;z-index: -1;}#sk-container-id-3 div.sk-parallel-item {display: flex;flex-direction: column;z-index: 1;position: relative;background-color: white;}#sk-container-id-3 div.sk-parallel-item:first-child::after {align-self: flex-end;width: 50%;}#sk-container-id-3 div.sk-parallel-item:last-child::after {align-self: flex-start;width: 50%;}#sk-container-id-3 div.sk-parallel-item:only-child::after {width: 0;}#sk-container-id-3 div.sk-dashed-wrapped {border: 1px dashed gray;margin: 0 0.4em 0.5em 0.4em;box-sizing: border-box;padding-bottom: 0.4em;background-color: white;}#sk-container-id-3 div.sk-label label {font-family: monospace;font-weight: bold;display: inline-block;line-height: 1.2em;}#sk-container-id-3 div.sk-label-container {text-align: center;}#sk-container-id-3 div.sk-container {/* jupyter's `normalize.less` sets `[hidden] { display: none; }` but bootstrap.min.css set `[hidden] { display: none !important; }` so we also need the `!important` here to be able to override the default hidden behavior on the sphinx rendered scikit-learn.org. See: https://github.com/scikit-learn/scikit-learn/issues/21755 */display: inline-block !important;position: relative;}#sk-container-id-3 div.sk-text-repr-fallback {display: none;}</style><div id=\"sk-container-id-3\" class=\"sk-top-container\"><div class=\"sk-text-repr-fallback\"><pre>DyNeuGraph()</pre><b>In a Jupyter environment, please rerun this cell to show the HTML representation or trust the notebook. <br />On GitHub, the HTML representation is unable to render, please try loading this page with nbviewer.org.</b></div><div class=\"sk-container\" hidden><div class=\"sk-item\"><div class=\"sk-estimator sk-toggleable\"><input class=\"sk-toggleable__control sk-hidden--visually\" id=\"sk-estimator-id-3\" type=\"checkbox\" checked><label for=\"sk-estimator-id-3\" class=\"sk-toggleable__label sk-toggleable__label-arrow\">DyNeuGraph</label><div class=\"sk-toggleable__content\"><pre>DyNeuGraph()</pre></div></div></div></div></div>"
      ],
      "text/plain": [
       "DyNeuGraph()"
      ]
     },
     "execution_count": 12,
     "metadata": {},
     "output_type": "execute_result"
    }
   ],
   "source": [
    "## Visualize the shape graph using DyNeuSR's DyNeuGraph\n",
    "from dyneusr import DyNeuGraph\n",
    "\n",
    "dG = DyNeuGraph(G=graph, y=y)\n",
    "dG.visualize('patient7_dyneusr_02.html')"
   ]
  },
  {
   "cell_type": "code",
   "execution_count": null,
   "metadata": {},
   "outputs": [],
   "source": []
  }
 ],
 "metadata": {
  "kernelspec": {
   "display_name": "Python 3.9.0 ('tda')",
   "language": "python",
   "name": "python3"
  },
  "language_info": {
   "codemirror_mode": {
    "name": "ipython",
    "version": 3
   },
   "file_extension": ".py",
   "mimetype": "text/x-python",
   "name": "python",
   "nbconvert_exporter": "python",
   "pygments_lexer": "ipython3",
   "version": "3.9.0"
  },
  "orig_nbformat": 4,
  "vscode": {
   "interpreter": {
    "hash": "bd3cee1df0089f801df8171115181723032e142d23f63c1a26ff4a6d564ccff4"
   }
  }
 },
 "nbformat": 4,
 "nbformat_minor": 2
}
