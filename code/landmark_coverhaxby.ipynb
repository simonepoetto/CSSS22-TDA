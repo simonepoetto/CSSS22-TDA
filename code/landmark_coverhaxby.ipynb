{
 "cells": [
  {
   "cell_type": "code",
   "execution_count": 1,
   "metadata": {},
   "outputs": [
    {
     "name": "stderr",
     "output_type": "stream",
     "text": [
      "/home/poetz/anaconda3/envs/tda/lib/python3.9/site-packages/nilearn/input_data/__init__.py:27: FutureWarning: The import path 'nilearn.input_data' is deprecated in version 0.9. Importing from 'nilearn.input_data' will be possible at least until release 0.13.0. Please import from 'nilearn.maskers' instead.\n",
      "  warnings.warn(message, FutureWarning)\n"
     ]
    }
   ],
   "source": [
    "\n",
    "import numpy as np \n",
    "import pandas as pd\n",
    "from nilearn.datasets import fetch_haxby\n",
    "from nilearn.input_data import NiftiMasker\n",
    "\n",
    "from reciprocal_isomap import ReciprocalIsomap\n",
    "\n",
    "from kmapper import KeplerMapper\n",
    "from landmark_cover import LandmarkCover\n",
    "from sklearn.cluster import AgglomerativeClustering\n"
   ]
  },
  {
   "cell_type": "code",
   "execution_count": 2,
   "metadata": {},
   "outputs": [],
   "source": [
    "\n",
    "# Fetch dataset, extract time-series from ventral temporal (VT) mask\n",
    "dataset = fetch_haxby(subjects=[2])\n",
    "masker = NiftiMasker(\n",
    "    dataset.mask_vt[0], \n",
    "    standardize=True, detrend=True, smoothing_fwhm=4.0,\n",
    "    low_pass=0.09, high_pass=0.008, t_r=2.5,\n",
    "    memory=\"nilearn_cache\")\n",
    "X = masker.fit_transform(dataset.func[0])\n",
    "\n",
    "# Encode labels as integers\n",
    "df = pd.read_csv(dataset.session_target[0], sep=\" \")\n",
    "target, labels = pd.factorize(df.labels.values)\n",
    "timing = pd.DataFrame().assign(task=target, task_name=labels[target])\n",
    "timing_onehot = pd.DataFrame({l:1*(target==i) for i,l in enumerate(labels)})"
   ]
  },
  {
   "cell_type": "code",
   "execution_count": 3,
   "metadata": {},
   "outputs": [
    {
     "name": "stderr",
     "output_type": "stream",
     "text": [
      "/home/poetz/anaconda3/envs/tda/lib/python3.9/site-packages/sklearn/utils/deprecation.py:87: FutureWarning: Function graph_shortest_path is deprecated; `graph_shortest_path` is deprecated in 1.0 (renaming of 0.25) and will be removed in 1.2. Use `scipy.sparse.csgraph.shortest_path` instead.\n",
      "  warnings.warn(msg, category=FutureWarning)\n"
     ]
    }
   ],
   "source": [
    "# compute distances with reciprocal isomap\n",
    "\n",
    "\n",
    "# compute geodesic distances on a reciprocal neighbor graph\n",
    "r_isomap = ReciprocalIsomap(n_neighbors=30, neighbors_mode='distance')\n",
    "geodesic_distances = r_isomap._reciprocal_distances(X).toarray()\n"
   ]
  },
  {
   "cell_type": "code",
   "execution_count": 5,
   "metadata": {},
   "outputs": [
    {
     "data": {
      "text/plain": [
       "363.0"
      ]
     },
     "execution_count": 5,
     "metadata": {},
     "output_type": "execute_result"
    }
   ],
   "source": [
    "1452/4"
   ]
  },
  {
   "cell_type": "code",
   "execution_count": 10,
   "metadata": {},
   "outputs": [
    {
     "name": "stdout",
     "output_type": "stream",
     "text": [
      "KeplerMapper()\n",
      "Mapping on data shaped (1452, 464) using lens shaped (1452, 1452)\n",
      "\n",
      "Creating 363 hypercubes.\n",
      "Merged 772 duplicate nodes.\n",
      "\n",
      "Number of nodes before merger: 2370; after merger: 1598\n",
      "\n",
      "\n",
      "Created 10282 edges and 1598 nodes in 0:00:06.821292.\n",
      "Wrote visualization to: kepler_haxby_last02.html\n"
     ]
    }
   ],
   "source": [
    "#feed distances to KeplerMapper using Landmark Cover\n",
    "\n",
    "\n",
    "\n",
    "# setup KeplerMapper object\n",
    "mapper = KeplerMapper(verbose=1)\n",
    "\n",
    "# run KeplerMapper using the LandmarkCover\n",
    "graph = mapper.map(\n",
    "    lens=geodesic_distances, X=X,\n",
    "    cover=LandmarkCover(n_landmarks=363, perc_overlap=0.2, metric='precomputed'),\n",
    "    clusterer=AgglomerativeClustering(n_clusters=10, linkage='single'),\n",
    "    remove_duplicate_nodes=True,\n",
    ")\n",
    "\n",
    "# visualize the graph\n",
    "html = mapper.visualize(graph, path_html=f'kepler_haxby_last02.html')"
   ]
  },
  {
   "cell_type": "code",
   "execution_count": 11,
   "metadata": {},
   "outputs": [
    {
     "data": {
      "text/html": [
       "<table border=\"1\" class=\"dataframe\">\n",
       "  <thead>\n",
       "    <tr style=\"text-align: right;\">\n",
       "      <th>label</th>\n",
       "      <th>group</th>\n",
       "      <th>value</th>\n",
       "      <th>row_count</th>\n",
       "    </tr>\n",
       "  </thead>\n",
       "  <tbody>\n",
       "    <tr>\n",
       "      <td>rest</td>\n",
       "      <td>0</td>\n",
       "      <td>588</td>\n",
       "      <td>1452</td>\n",
       "    </tr>\n",
       "    <tr>\n",
       "      <td>scissors</td>\n",
       "      <td>1</td>\n",
       "      <td>108</td>\n",
       "      <td>1452</td>\n",
       "    </tr>\n",
       "    <tr>\n",
       "      <td>face</td>\n",
       "      <td>2</td>\n",
       "      <td>108</td>\n",
       "      <td>1452</td>\n",
       "    </tr>\n",
       "    <tr>\n",
       "      <td>cat</td>\n",
       "      <td>3</td>\n",
       "      <td>108</td>\n",
       "      <td>1452</td>\n",
       "    </tr>\n",
       "    <tr>\n",
       "      <td>shoe</td>\n",
       "      <td>4</td>\n",
       "      <td>108</td>\n",
       "      <td>1452</td>\n",
       "    </tr>\n",
       "    <tr>\n",
       "      <td>house</td>\n",
       "      <td>5</td>\n",
       "      <td>108</td>\n",
       "      <td>1452</td>\n",
       "    </tr>\n",
       "    <tr>\n",
       "      <td>scrambledpix</td>\n",
       "      <td>6</td>\n",
       "      <td>108</td>\n",
       "      <td>1452</td>\n",
       "    </tr>\n",
       "    <tr>\n",
       "      <td>bottle</td>\n",
       "      <td>7</td>\n",
       "      <td>108</td>\n",
       "      <td>1452</td>\n",
       "    </tr>\n",
       "    <tr>\n",
       "      <td>chair</td>\n",
       "      <td>8</td>\n",
       "      <td>108</td>\n",
       "      <td>1452</td>\n",
       "    </tr>\n",
       "  </tbody>\n",
       "</table>"
      ],
      "text/plain": [
       "<IPython.core.display.HTML object>"
      ]
     },
     "metadata": {},
     "output_type": "display_data"
    },
    {
     "name": "stdout",
     "output_type": "stream",
     "text": [
      "   > Found 0 nodes for data point 2.\n",
      "   > Found 0 nodes for data point 3.\n",
      "   > Found 0 nodes for data point 4.\n",
      "   > Found 0 nodes for data point 5.\n",
      "   > Found 0 nodes for data point 8.\n",
      "   > Found 0 nodes for data point 31.\n",
      "   > Found 0 nodes for data point 32.\n",
      "   > Found 0 nodes for data point 73.\n",
      "   > Found 0 nodes for data point 124.\n",
      "   > Found 0 nodes for data point 240.\n",
      "   > Found 0 nodes for data point 241.\n",
      "   > Found 0 nodes for data point 359.\n",
      "   > Found 0 nodes for data point 360.\n",
      "   > Found 0 nodes for data point 361.\n",
      "   > Found 0 nodes for data point 430.\n",
      "   > Found 0 nodes for data point 432.\n",
      "   > Found 0 nodes for data point 433.\n",
      "   > Found 0 nodes for data point 434.\n",
      "   > Found 0 nodes for data point 435.\n",
      "   > Found 0 nodes for data point 436.\n",
      "   > Found 0 nodes for data point 437.\n",
      "   > Found 0 nodes for data point 485.\n",
      "   > Found 0 nodes for data point 486.\n",
      "   > Found 0 nodes for data point 487.\n",
      "   > Found 0 nodes for data point 489.\n",
      "   > Found 0 nodes for data point 490.\n",
      "   > Found 0 nodes for data point 516.\n",
      "   > Found 0 nodes for data point 666.\n",
      "   > Found 0 nodes for data point 667.\n",
      "   > Found 0 nodes for data point 722.\n",
      "   > Found 0 nodes for data point 724.\n",
      "   > Found 0 nodes for data point 725.\n",
      "   > Found 0 nodes for data point 843.\n",
      "   > Found 0 nodes for data point 844.\n",
      "   > Found 0 nodes for data point 845.\n",
      "   > Found 0 nodes for data point 848.\n",
      "   > Found 0 nodes for data point 849.\n",
      "   > Found 0 nodes for data point 880.\n",
      "   > Found 0 nodes for data point 882.\n",
      "   > Found 0 nodes for data point 923.\n",
      "   > Found 0 nodes for data point 939.\n",
      "   > Found 0 nodes for data point 965.\n",
      "   > Found 0 nodes for data point 966.\n",
      "   > Found 0 nodes for data point 1051.\n",
      "   > Found 0 nodes for data point 1052.\n",
      "   > Found 0 nodes for data point 1053.\n",
      "   > Found 0 nodes for data point 1054.\n",
      "   > Found 0 nodes for data point 1055.\n",
      "   > Found 0 nodes for data point 1056.\n",
      "   > Found 0 nodes for data point 1057.\n",
      "   > Found 0 nodes for data point 1058.\n",
      "   > Found 0 nodes for data point 1064.\n",
      "   > Found 0 nodes for data point 1065.\n",
      "   > Found 0 nodes for data point 1066.\n",
      "   > Found 0 nodes for data point 1081.\n",
      "   > Found 0 nodes for data point 1203.\n",
      "   > Found 0 nodes for data point 1204.\n",
      "   > Found 0 nodes for data point 1205.\n",
      "   > Found 0 nodes for data point 1206.\n",
      "   > Found 0 nodes for data point 1207.\n",
      "   > Found 0 nodes for data point 1208.\n",
      "   > Found 0 nodes for data point 1209.\n",
      "   > Found 0 nodes for data point 1216.\n",
      "   > Found 0 nodes for data point 1229.\n",
      "   > Found 0 nodes for data point 1230.\n",
      "   > Found 0 nodes for data point 1231.\n",
      "   > Found 0 nodes for data point 1253.\n",
      "   > Found 0 nodes for data point 1254.\n",
      "   > Found 0 nodes for data point 1255.\n",
      "   > Found 0 nodes for data point 1446.\n",
      "   > Found 0 nodes for data point 1447.\n",
      "   > Found 0 nodes for data point 1448.\n",
      "   > Found 0 nodes for data point 1449.\n",
      "   > Found 0 nodes for data point 1450.\n",
      "Already serving localhost:None \n",
      "[Force Graph] file:///home/poetz/Desktop/PhD/Projects/Projects%20CSSS/TDA/CSSS22-TDA/code/kepler_haxby_last02_dynsr.html\n"
     ]
    },
    {
     "data": {
      "text/html": [
       "<style>#sk-container-id-2 {color: black;background-color: white;}#sk-container-id-2 pre{padding: 0;}#sk-container-id-2 div.sk-toggleable {background-color: white;}#sk-container-id-2 label.sk-toggleable__label {cursor: pointer;display: block;width: 100%;margin-bottom: 0;padding: 0.3em;box-sizing: border-box;text-align: center;}#sk-container-id-2 label.sk-toggleable__label-arrow:before {content: \"▸\";float: left;margin-right: 0.25em;color: #696969;}#sk-container-id-2 label.sk-toggleable__label-arrow:hover:before {color: black;}#sk-container-id-2 div.sk-estimator:hover label.sk-toggleable__label-arrow:before {color: black;}#sk-container-id-2 div.sk-toggleable__content {max-height: 0;max-width: 0;overflow: hidden;text-align: left;background-color: #f0f8ff;}#sk-container-id-2 div.sk-toggleable__content pre {margin: 0.2em;color: black;border-radius: 0.25em;background-color: #f0f8ff;}#sk-container-id-2 input.sk-toggleable__control:checked~div.sk-toggleable__content {max-height: 200px;max-width: 100%;overflow: auto;}#sk-container-id-2 input.sk-toggleable__control:checked~label.sk-toggleable__label-arrow:before {content: \"▾\";}#sk-container-id-2 div.sk-estimator input.sk-toggleable__control:checked~label.sk-toggleable__label {background-color: #d4ebff;}#sk-container-id-2 div.sk-label input.sk-toggleable__control:checked~label.sk-toggleable__label {background-color: #d4ebff;}#sk-container-id-2 input.sk-hidden--visually {border: 0;clip: rect(1px 1px 1px 1px);clip: rect(1px, 1px, 1px, 1px);height: 1px;margin: -1px;overflow: hidden;padding: 0;position: absolute;width: 1px;}#sk-container-id-2 div.sk-estimator {font-family: monospace;background-color: #f0f8ff;border: 1px dotted black;border-radius: 0.25em;box-sizing: border-box;margin-bottom: 0.5em;}#sk-container-id-2 div.sk-estimator:hover {background-color: #d4ebff;}#sk-container-id-2 div.sk-parallel-item::after {content: \"\";width: 100%;border-bottom: 1px solid gray;flex-grow: 1;}#sk-container-id-2 div.sk-label:hover label.sk-toggleable__label {background-color: #d4ebff;}#sk-container-id-2 div.sk-serial::before {content: \"\";position: absolute;border-left: 1px solid gray;box-sizing: border-box;top: 0;bottom: 0;left: 50%;z-index: 0;}#sk-container-id-2 div.sk-serial {display: flex;flex-direction: column;align-items: center;background-color: white;padding-right: 0.2em;padding-left: 0.2em;position: relative;}#sk-container-id-2 div.sk-item {position: relative;z-index: 1;}#sk-container-id-2 div.sk-parallel {display: flex;align-items: stretch;justify-content: center;background-color: white;position: relative;}#sk-container-id-2 div.sk-item::before, #sk-container-id-2 div.sk-parallel-item::before {content: \"\";position: absolute;border-left: 1px solid gray;box-sizing: border-box;top: 0;bottom: 0;left: 50%;z-index: -1;}#sk-container-id-2 div.sk-parallel-item {display: flex;flex-direction: column;z-index: 1;position: relative;background-color: white;}#sk-container-id-2 div.sk-parallel-item:first-child::after {align-self: flex-end;width: 50%;}#sk-container-id-2 div.sk-parallel-item:last-child::after {align-self: flex-start;width: 50%;}#sk-container-id-2 div.sk-parallel-item:only-child::after {width: 0;}#sk-container-id-2 div.sk-dashed-wrapped {border: 1px dashed gray;margin: 0 0.4em 0.5em 0.4em;box-sizing: border-box;padding-bottom: 0.4em;background-color: white;}#sk-container-id-2 div.sk-label label {font-family: monospace;font-weight: bold;display: inline-block;line-height: 1.2em;}#sk-container-id-2 div.sk-label-container {text-align: center;}#sk-container-id-2 div.sk-container {/* jupyter's `normalize.less` sets `[hidden] { display: none; }` but bootstrap.min.css set `[hidden] { display: none !important; }` so we also need the `!important` here to be able to override the default hidden behavior on the sphinx rendered scikit-learn.org. See: https://github.com/scikit-learn/scikit-learn/issues/21755 */display: inline-block !important;position: relative;}#sk-container-id-2 div.sk-text-repr-fallback {display: none;}</style><div id=\"sk-container-id-2\" class=\"sk-top-container\"><div class=\"sk-text-repr-fallback\"><pre>DyNeuGraph()</pre><b>In a Jupyter environment, please rerun this cell to show the HTML representation or trust the notebook. <br />On GitHub, the HTML representation is unable to render, please try loading this page with nbviewer.org.</b></div><div class=\"sk-container\" hidden><div class=\"sk-item\"><div class=\"sk-estimator sk-toggleable\"><input class=\"sk-toggleable__control sk-hidden--visually\" id=\"sk-estimator-id-2\" type=\"checkbox\" checked><label for=\"sk-estimator-id-2\" class=\"sk-toggleable__label sk-toggleable__label-arrow\">DyNeuGraph</label><div class=\"sk-toggleable__content\"><pre>DyNeuGraph()</pre></div></div></div></div></div>"
      ],
      "text/plain": [
       "DyNeuGraph()"
      ]
     },
     "execution_count": 11,
     "metadata": {},
     "output_type": "execute_result"
    }
   ],
   "source": [
    "## Visualize the shape graph using DyNeuSR's DyNeuGraph\n",
    "from dyneusr import DyNeuGraph\n",
    "\n",
    "dG = DyNeuGraph(G=graph, y=timing_onehot)\n",
    "dG.visualize('kepler_haxby_last02_dynsr.html')"
   ]
  },
  {
   "cell_type": "code",
   "execution_count": null,
   "metadata": {},
   "outputs": [],
   "source": []
  }
 ],
 "metadata": {
  "kernelspec": {
   "display_name": "Python 3.9.0 ('tda')",
   "language": "python",
   "name": "python3"
  },
  "language_info": {
   "codemirror_mode": {
    "name": "ipython",
    "version": 3
   },
   "file_extension": ".py",
   "mimetype": "text/x-python",
   "name": "python",
   "nbconvert_exporter": "python",
   "pygments_lexer": "ipython3",
   "version": "3.9.0"
  },
  "orig_nbformat": 4,
  "vscode": {
   "interpreter": {
    "hash": "bd3cee1df0089f801df8171115181723032e142d23f63c1a26ff4a6d564ccff4"
   }
  }
 },
 "nbformat": 4,
 "nbformat_minor": 2
}
