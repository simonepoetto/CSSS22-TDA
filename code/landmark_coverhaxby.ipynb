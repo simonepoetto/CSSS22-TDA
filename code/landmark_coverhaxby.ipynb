{
 "cells": [
  {
   "cell_type": "code",
   "execution_count": 11,
   "metadata": {},
   "outputs": [
    {
     "name": "stderr",
     "output_type": "stream",
     "text": [
      "/home/poetz/anaconda3/envs/tda/lib/python3.9/site-packages/tqdm/auto.py:22: TqdmWarning: IProgress not found. Please update jupyter and ipywidgets. See https://ipywidgets.readthedocs.io/en/stable/user_install.html\n",
      "  from .autonotebook import tqdm as notebook_tqdm\n"
     ]
    }
   ],
   "source": [
    "\n",
    "import numpy as np \n",
    "import pandas as pd\n",
    "from nilearn.datasets import fetch_haxby\n",
    "from nilearn.input_data import NiftiMasker\n",
    "\n",
    "from reciprocal_isomap import ReciprocalIsomap\n",
    "\n",
    "from kmapper import KeplerMapper\n",
    "from landmark_cover import LandmarkCover\n",
    "from sklearn.cluster import AgglomerativeClustering\n"
   ]
  },
  {
   "cell_type": "code",
   "execution_count": 5,
   "metadata": {},
   "outputs": [],
   "source": [
    "\n",
    "# Fetch dataset, extract time-series from ventral temporal (VT) mask\n",
    "dataset = fetch_haxby(subjects=[2])\n",
    "masker = NiftiMasker(\n",
    "    dataset.mask_vt[0], \n",
    "    standardize=True, detrend=True, smoothing_fwhm=4.0,\n",
    "    low_pass=0.09, high_pass=0.008, t_r=2.5,\n",
    "    memory=\"nilearn_cache\")\n",
    "X = masker.fit_transform(dataset.func[0])\n",
    "\n",
    "# Encode labels as integers\n",
    "df = pd.read_csv(dataset.session_target[0], sep=\" \")\n",
    "target, labels = pd.factorize(df.labels.values)\n",
    "timing = pd.DataFrame().assign(task=target, task_name=labels[target])\n",
    "timing_onehot = pd.DataFrame({l:1*(target==i) for i,l in enumerate(labels)})"
   ]
  },
  {
   "cell_type": "code",
   "execution_count": 39,
   "metadata": {},
   "outputs": [],
   "source": [
    "# compute distances with reciprocal isomap\n",
    "\n",
    "\n",
    "# compute geodesic distances on a reciprocal neighbor graph\n",
    "r_isomap = ReciprocalIsomap(n_neighbors=30,metric='correlation', neighbors_mode='connectivity')\n",
    "geodesic_distances = r_isomap._reciprocal_distances(X).toarray()\n"
   ]
  },
  {
   "cell_type": "code",
   "execution_count": 41,
   "metadata": {},
   "outputs": [
    {
     "name": "stdout",
     "output_type": "stream",
     "text": [
      "KeplerMapper()\n",
      "Mapping on data shaped (1452, 464) using lens shaped (1452, 1452)\n",
      "\n",
      "Creating 50 hypercubes.\n",
      "Merged 47 duplicate nodes.\n",
      "\n",
      "Number of nodes before merger: 150; after merger: 103\n",
      "\n",
      "\n",
      "Created 2850 edges and 103 nodes in 0:00:07.480731.\n",
      "Wrote visualization to: kepler.html\n"
     ]
    }
   ],
   "source": [
    "#feed distances to KeplerMapper using Landmark Cover\n",
    "\n",
    "\n",
    "\n",
    "# setup KeplerMapper object\n",
    "mapper = KeplerMapper(verbose=1)\n",
    "\n",
    "# run KeplerMapper using the LandmarkCover\n",
    "graph = mapper.map(\n",
    "    lens=geodesic_distances, X=X,\n",
    "    cover=LandmarkCover(n_landmarks=50, perc_overlap=0.4, metric='precomputed'),\n",
    "    clusterer=AgglomerativeClustering(n_clusters=3, linkage='single'),\n",
    "    remove_duplicate_nodes=True,\n",
    ")\n",
    "\n",
    "# visualize the graph\n",
    "html = mapper.visualize(graph, path_html=f'kepler.html')"
   ]
  },
  {
   "cell_type": "code",
   "execution_count": 42,
   "metadata": {},
   "outputs": [
    {
     "data": {
      "text/html": [
       "<table border=\"1\" class=\"dataframe\">\n",
       "  <thead>\n",
       "    <tr style=\"text-align: right;\">\n",
       "      <th>label</th>\n",
       "      <th>group</th>\n",
       "      <th>value</th>\n",
       "      <th>row_count</th>\n",
       "    </tr>\n",
       "  </thead>\n",
       "  <tbody>\n",
       "    <tr>\n",
       "      <td>rest</td>\n",
       "      <td>0</td>\n",
       "      <td>588</td>\n",
       "      <td>1452</td>\n",
       "    </tr>\n",
       "    <tr>\n",
       "      <td>scissors</td>\n",
       "      <td>1</td>\n",
       "      <td>108</td>\n",
       "      <td>1452</td>\n",
       "    </tr>\n",
       "    <tr>\n",
       "      <td>face</td>\n",
       "      <td>2</td>\n",
       "      <td>108</td>\n",
       "      <td>1452</td>\n",
       "    </tr>\n",
       "    <tr>\n",
       "      <td>cat</td>\n",
       "      <td>3</td>\n",
       "      <td>108</td>\n",
       "      <td>1452</td>\n",
       "    </tr>\n",
       "    <tr>\n",
       "      <td>shoe</td>\n",
       "      <td>4</td>\n",
       "      <td>108</td>\n",
       "      <td>1452</td>\n",
       "    </tr>\n",
       "    <tr>\n",
       "      <td>house</td>\n",
       "      <td>5</td>\n",
       "      <td>108</td>\n",
       "      <td>1452</td>\n",
       "    </tr>\n",
       "    <tr>\n",
       "      <td>scrambledpix</td>\n",
       "      <td>6</td>\n",
       "      <td>108</td>\n",
       "      <td>1452</td>\n",
       "    </tr>\n",
       "    <tr>\n",
       "      <td>bottle</td>\n",
       "      <td>7</td>\n",
       "      <td>108</td>\n",
       "      <td>1452</td>\n",
       "    </tr>\n",
       "    <tr>\n",
       "      <td>chair</td>\n",
       "      <td>8</td>\n",
       "      <td>108</td>\n",
       "      <td>1452</td>\n",
       "    </tr>\n",
       "  </tbody>\n",
       "</table>"
      ],
      "text/plain": [
       "<IPython.core.display.HTML object>"
      ]
     },
     "metadata": {},
     "output_type": "display_data"
    },
    {
     "name": "stdout",
     "output_type": "stream",
     "text": [
      "Already serving localhost:None \n",
      "[Force Graph] file:///home/poetz/phd_projects/CSSS22-TDA/code/trial_0.html\n"
     ]
    },
    {
     "data": {
      "text/html": [
       "<style>#sk-container-id-3 {color: black;background-color: white;}#sk-container-id-3 pre{padding: 0;}#sk-container-id-3 div.sk-toggleable {background-color: white;}#sk-container-id-3 label.sk-toggleable__label {cursor: pointer;display: block;width: 100%;margin-bottom: 0;padding: 0.3em;box-sizing: border-box;text-align: center;}#sk-container-id-3 label.sk-toggleable__label-arrow:before {content: \"▸\";float: left;margin-right: 0.25em;color: #696969;}#sk-container-id-3 label.sk-toggleable__label-arrow:hover:before {color: black;}#sk-container-id-3 div.sk-estimator:hover label.sk-toggleable__label-arrow:before {color: black;}#sk-container-id-3 div.sk-toggleable__content {max-height: 0;max-width: 0;overflow: hidden;text-align: left;background-color: #f0f8ff;}#sk-container-id-3 div.sk-toggleable__content pre {margin: 0.2em;color: black;border-radius: 0.25em;background-color: #f0f8ff;}#sk-container-id-3 input.sk-toggleable__control:checked~div.sk-toggleable__content {max-height: 200px;max-width: 100%;overflow: auto;}#sk-container-id-3 input.sk-toggleable__control:checked~label.sk-toggleable__label-arrow:before {content: \"▾\";}#sk-container-id-3 div.sk-estimator input.sk-toggleable__control:checked~label.sk-toggleable__label {background-color: #d4ebff;}#sk-container-id-3 div.sk-label input.sk-toggleable__control:checked~label.sk-toggleable__label {background-color: #d4ebff;}#sk-container-id-3 input.sk-hidden--visually {border: 0;clip: rect(1px 1px 1px 1px);clip: rect(1px, 1px, 1px, 1px);height: 1px;margin: -1px;overflow: hidden;padding: 0;position: absolute;width: 1px;}#sk-container-id-3 div.sk-estimator {font-family: monospace;background-color: #f0f8ff;border: 1px dotted black;border-radius: 0.25em;box-sizing: border-box;margin-bottom: 0.5em;}#sk-container-id-3 div.sk-estimator:hover {background-color: #d4ebff;}#sk-container-id-3 div.sk-parallel-item::after {content: \"\";width: 100%;border-bottom: 1px solid gray;flex-grow: 1;}#sk-container-id-3 div.sk-label:hover label.sk-toggleable__label {background-color: #d4ebff;}#sk-container-id-3 div.sk-serial::before {content: \"\";position: absolute;border-left: 1px solid gray;box-sizing: border-box;top: 0;bottom: 0;left: 50%;z-index: 0;}#sk-container-id-3 div.sk-serial {display: flex;flex-direction: column;align-items: center;background-color: white;padding-right: 0.2em;padding-left: 0.2em;position: relative;}#sk-container-id-3 div.sk-item {position: relative;z-index: 1;}#sk-container-id-3 div.sk-parallel {display: flex;align-items: stretch;justify-content: center;background-color: white;position: relative;}#sk-container-id-3 div.sk-item::before, #sk-container-id-3 div.sk-parallel-item::before {content: \"\";position: absolute;border-left: 1px solid gray;box-sizing: border-box;top: 0;bottom: 0;left: 50%;z-index: -1;}#sk-container-id-3 div.sk-parallel-item {display: flex;flex-direction: column;z-index: 1;position: relative;background-color: white;}#sk-container-id-3 div.sk-parallel-item:first-child::after {align-self: flex-end;width: 50%;}#sk-container-id-3 div.sk-parallel-item:last-child::after {align-self: flex-start;width: 50%;}#sk-container-id-3 div.sk-parallel-item:only-child::after {width: 0;}#sk-container-id-3 div.sk-dashed-wrapped {border: 1px dashed gray;margin: 0 0.4em 0.5em 0.4em;box-sizing: border-box;padding-bottom: 0.4em;background-color: white;}#sk-container-id-3 div.sk-label label {font-family: monospace;font-weight: bold;display: inline-block;line-height: 1.2em;}#sk-container-id-3 div.sk-label-container {text-align: center;}#sk-container-id-3 div.sk-container {/* jupyter's `normalize.less` sets `[hidden] { display: none; }` but bootstrap.min.css set `[hidden] { display: none !important; }` so we also need the `!important` here to be able to override the default hidden behavior on the sphinx rendered scikit-learn.org. See: https://github.com/scikit-learn/scikit-learn/issues/21755 */display: inline-block !important;position: relative;}#sk-container-id-3 div.sk-text-repr-fallback {display: none;}</style><div id=\"sk-container-id-3\" class=\"sk-top-container\"><div class=\"sk-text-repr-fallback\"><pre>DyNeuGraph()</pre><b>In a Jupyter environment, please rerun this cell to show the HTML representation or trust the notebook. <br />On GitHub, the HTML representation is unable to render, please try loading this page with nbviewer.org.</b></div><div class=\"sk-container\" hidden><div class=\"sk-item\"><div class=\"sk-estimator sk-toggleable\"><input class=\"sk-toggleable__control sk-hidden--visually\" id=\"sk-estimator-id-3\" type=\"checkbox\" checked><label for=\"sk-estimator-id-3\" class=\"sk-toggleable__label sk-toggleable__label-arrow\">DyNeuGraph</label><div class=\"sk-toggleable__content\"><pre>DyNeuGraph()</pre></div></div></div></div></div>"
      ],
      "text/plain": [
       "DyNeuGraph()"
      ]
     },
     "execution_count": 42,
     "metadata": {},
     "output_type": "execute_result"
    }
   ],
   "source": [
    "## Visualize the shape graph using DyNeuSR's DyNeuGraph\n",
    "from dyneusr import DyNeuGraph\n",
    "\n",
    "dG = DyNeuGraph(G=graph, y=timing_onehot)\n",
    "dG.visualize('trial_0.html')"
   ]
  },
  {
   "cell_type": "code",
   "execution_count": null,
   "metadata": {},
   "outputs": [],
   "source": []
  }
 ],
 "metadata": {
  "kernelspec": {
   "display_name": "Python 3.9.0 ('tda')",
   "language": "python",
   "name": "python3"
  },
  "language_info": {
   "codemirror_mode": {
    "name": "ipython",
    "version": 3
   },
   "file_extension": ".py",
   "mimetype": "text/x-python",
   "name": "python",
   "nbconvert_exporter": "python",
   "pygments_lexer": "ipython3",
   "version": "3.9.0"
  },
  "orig_nbformat": 4,
  "vscode": {
   "interpreter": {
    "hash": "bd3cee1df0089f801df8171115181723032e142d23f63c1a26ff4a6d564ccff4"
   }
  }
 },
 "nbformat": 4,
 "nbformat_minor": 2
}
