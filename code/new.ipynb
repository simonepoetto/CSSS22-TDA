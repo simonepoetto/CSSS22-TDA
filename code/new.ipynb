{
 "cells": [
  {
   "cell_type": "code",
   "execution_count": 1,
   "metadata": {},
   "outputs": [
    {
     "name": "stderr",
     "output_type": "stream",
     "text": [
      "/home/poetz/anaconda3/envs/csss22-tda/lib/python3.9/site-packages/nilearn/input_data/__init__.py:27: FutureWarning: The import path 'nilearn.input_data' is deprecated in version 0.9. Importing from 'nilearn.input_data' will be possible at least until release 0.13.0. Please import from 'nilearn.maskers' instead.\n",
      "  warnings.warn(message, FutureWarning)\n"
     ]
    },
    {
     "name": "stdout",
     "output_type": "stream",
     "text": [
      "\n",
      "Dataset created in /home/poetz/nilearn_data/haxby2001\n",
      "\n",
      "Downloading data from https://www.nitrc.org/frs/download.php/7868/mask.nii.gz ...\n"
     ]
    },
    {
     "name": "stderr",
     "output_type": "stream",
     "text": [
      " ...done. (1 seconds, 0 min)\n"
     ]
    },
    {
     "name": "stdout",
     "output_type": "stream",
     "text": [
      "Downloading data from http://data.pymvpa.org/datasets/haxby2001/MD5SUMS ...\n"
     ]
    },
    {
     "name": "stderr",
     "output_type": "stream",
     "text": [
      " ...done. (0 seconds, 0 min)\n"
     ]
    },
    {
     "name": "stdout",
     "output_type": "stream",
     "text": [
      "Downloading data from http://data.pymvpa.org/datasets/haxby2001/subj2-2010.01.14.tar.gz ...\n"
     ]
    },
    {
     "name": "stderr",
     "output_type": "stream",
     "text": [
      "Downloaded 289456128 of 291168628 bytes (99.4%,    0.8s remaining) ...done. (135 seconds, 2 min)\n",
      "Extracting data from /home/poetz/nilearn_data/haxby2001/def37a305edfda829916fa14c9ea08f8/subj2-2010.01.14.tar.gz..... done.\n"
     ]
    }
   ],
   "source": [
    "\n",
    "import numpy as np \n",
    "import pandas as pd\n",
    "from nilearn.datasets import fetch_haxby\n",
    "from nilearn.input_data import NiftiMasker\n",
    "\n",
    "# Fetch dataset, extract time-series from ventral temporal (VT) mask\n",
    "dataset = fetch_haxby(subjects=[2])\n",
    "masker = NiftiMasker(\n",
    "    dataset.mask_vt[0], \n",
    "    standardize=True, detrend=True, smoothing_fwhm=4.0,\n",
    "    low_pass=0.09, high_pass=0.008, t_r=2.5,\n",
    "    memory=\"nilearn_cache\")\n",
    "X = masker.fit_transform(dataset.func[0])\n",
    "\n",
    "# Encode labels as integers\n",
    "df = pd.read_csv(dataset.session_target[0], sep=\" \")\n",
    "target, labels = pd.factorize(df.labels.values)\n",
    "timing = pd.DataFrame().assign(task=target, task_name=labels[target])\n",
    "timing_onehot = pd.DataFrame({l:1*(target==i) for i,l in enumerate(labels)})\n",
    "\n",
    "# Save X and y\n",
    "#np.save('SBJ02_mask_vt.npy', X)\n",
    "#timing.to_csv('SBJ02_timing_labels.tsv', sep='\\t', index=0)\n",
    "#timing_onehot.to_csv('SBJ02_timing_onehot.tsv', sep='\\t', index=0)"
   ]
  },
  {
   "cell_type": "code",
   "execution_count": null,
   "metadata": {},
   "outputs": [],
   "source": []
  }
 ],
 "metadata": {
  "kernelspec": {
   "display_name": "Python 3.9.12 ('csss22-tda')",
   "language": "python",
   "name": "python3"
  },
  "language_info": {
   "codemirror_mode": {
    "name": "ipython",
    "version": 3
   },
   "file_extension": ".py",
   "mimetype": "text/x-python",
   "name": "python",
   "nbconvert_exporter": "python",
   "pygments_lexer": "ipython3",
   "version": "3.9.12"
  },
  "orig_nbformat": 4,
  "vscode": {
   "interpreter": {
    "hash": "dcfd659d85bb174ba8f2d552a0e395cbc4d65187d43aacec5c7f1cdade5595ec"
   }
  }
 },
 "nbformat": 4,
 "nbformat_minor": 2
}
